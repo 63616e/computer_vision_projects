{
 "cells": [
  {
   "cell_type": "code",
   "execution_count": 5,
   "metadata": {},
   "outputs": [
    {
     "name": "stdout",
     "output_type": "stream",
     "text": [
      "[INFO] Found 20 Faces.\n",
      "[INFO] Object found. Saving locally.\n",
      "[INFO] Object found. Saving locally.\n",
      "[INFO] Object found. Saving locally.\n",
      "[INFO] Object found. Saving locally.\n",
      "[INFO] Object found. Saving locally.\n",
      "[INFO] Object found. Saving locally.\n",
      "[INFO] Object found. Saving locally.\n",
      "[INFO] Object found. Saving locally.\n",
      "[INFO] Object found. Saving locally.\n",
      "[INFO] Object found. Saving locally.\n",
      "[INFO] Object found. Saving locally.\n",
      "[INFO] Object found. Saving locally.\n",
      "[INFO] Object found. Saving locally.\n",
      "[INFO] Object found. Saving locally.\n",
      "[INFO] Object found. Saving locally.\n",
      "[INFO] Object found. Saving locally.\n",
      "[INFO] Object found. Saving locally.\n",
      "[INFO] Object found. Saving locally.\n",
      "[INFO] Object found. Saving locally.\n",
      "[INFO] Object found. Saving locally.\n",
      "[INFO] Image faces_detected.jpg written to filesystem:  True\n"
     ]
    }
   ],
   "source": [
    "import cv2\n",
    "import sys\n",
    "\n",
    "prompt = str(input(\"file name: \"))\n",
    "imagePath = prompt\n",
    "\n",
    "image = cv2.imread(imagePath)\n",
    "gray = cv2.cvtColor(image, cv2.COLOR_BGR2GRAY)\n",
    "\n",
    "faceCascade = cv2.CascadeClassifier(cv2.data.haarcascades + \"haarcascade_frontalface_default.xml\")\n",
    "faces = faceCascade.detectMultiScale(\n",
    "    gray,\n",
    "    scaleFactor=1.3,\n",
    "    minNeighbors=3,\n",
    "    minSize=(30, 30)\n",
    ")\n",
    "\n",
    "print(\"[INFO] Found {0} Faces.\".format(len(faces)))\n",
    "\n",
    "for (x, y, w, h) in faces:\n",
    "    cv2.rectangle(image, (x, y), (x + w, y + h), (0, 255, 0), 2)\n",
    "    roi_color = image[y:y + h, x:x + w]\n",
    "    print(\"[INFO] Object found. Saving locally.\")\n",
    "    cv2.imwrite('faces_detected/' + str(w) + str(h) + '_faces.jpg', roi_color)\n",
    "\n",
    "status = cv2.imwrite('faces_detected.jpg', image)\n",
    "print(\"[INFO] Image faces_detected.jpg written to filesystem: \", status)"
   ]
  }
 ],
 "metadata": {
  "interpreter": {
   "hash": "7bcfac60cd316cab1810c67f16d75e14abb874771ecdd5af4e3a00fe11b217a0"
  },
  "kernelspec": {
   "display_name": "Python 3.8.8 64-bit ('base': conda)",
   "language": "python",
   "name": "python3"
  },
  "language_info": {
   "codemirror_mode": {
    "name": "ipython",
    "version": 3
   },
   "file_extension": ".py",
   "mimetype": "text/x-python",
   "name": "python",
   "nbconvert_exporter": "python",
   "pygments_lexer": "ipython3",
   "version": "3.8.8"
  },
  "orig_nbformat": 4
 },
 "nbformat": 4,
 "nbformat_minor": 2
}
